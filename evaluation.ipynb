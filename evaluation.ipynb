{
 "cells": [
  {
   "cell_type": "code",
   "execution_count": 29,
   "metadata": {},
   "outputs": [
    {
     "name": "stdout",
     "output_type": "stream",
     "text": [
      "b'\\x80\\x04\\x95}\\x01\\x00\\x00\\x00\\x00\\x00\\x00\\x8c\\x12pandas.core.series\\x94\\x8c\\x06Series\\x94\\x93\\x94)\\x81\\x94}\\x94(\\x8c\\x04_mgr\\x94\\x8c\\x1epandas.core.internals.managers\\x94\\x8c\\x12SingleBlo'\n"
     ]
    },
    {
     "ename": "UnpicklingError",
     "evalue": "invalid load key, '\\x02'.",
     "output_type": "error",
     "traceback": [
      "\u001b[1;31m---------------------------------------------------------------------------\u001b[0m",
      "\u001b[1;31mUnpicklingError\u001b[0m                           Traceback (most recent call last)",
      "Cell \u001b[1;32mIn[29], line 15\u001b[0m\n\u001b[0;32m     11\u001b[0m \u001b[38;5;28mprint\u001b[39m(content)\n\u001b[0;32m     14\u001b[0m \u001b[38;5;28;01mwith\u001b[39;00m \u001b[38;5;28mopen\u001b[39m(\u001b[38;5;124m'\u001b[39m\u001b[38;5;124my_test.pkl\u001b[39m\u001b[38;5;124m'\u001b[39m, \u001b[38;5;124m'\u001b[39m\u001b[38;5;124mrb\u001b[39m\u001b[38;5;124m'\u001b[39m) \u001b[38;5;28;01mas\u001b[39;00m file:\n\u001b[1;32m---> 15\u001b[0m     y_test \u001b[38;5;241m=\u001b[39m \u001b[43mpickle\u001b[49m\u001b[38;5;241;43m.\u001b[39;49m\u001b[43mload\u001b[49m\u001b[43m(\u001b[49m\u001b[43mfile\u001b[49m\u001b[43m)\u001b[49m\n\u001b[0;32m     17\u001b[0m \u001b[38;5;66;03m# Charger le modèle\u001b[39;00m\n\u001b[0;32m     18\u001b[0m device \u001b[38;5;241m=\u001b[39m torch\u001b[38;5;241m.\u001b[39mdevice(\u001b[38;5;124m\"\u001b[39m\u001b[38;5;124mcuda\u001b[39m\u001b[38;5;124m\"\u001b[39m \u001b[38;5;28;01mif\u001b[39;00m torch\u001b[38;5;241m.\u001b[39mcuda\u001b[38;5;241m.\u001b[39mis_available() \u001b[38;5;28;01melse\u001b[39;00m \u001b[38;5;124m\"\u001b[39m\u001b[38;5;124mcpu\u001b[39m\u001b[38;5;124m\"\u001b[39m)\n",
      "\u001b[1;31mUnpicklingError\u001b[0m: invalid load key, '\\x02'."
     ]
    }
   ],
   "source": [
    "import pickle\n",
    "import torch\n",
    "from transformers import BertTokenizer, BertForSequenceClassification\n",
    "from sklearn.metrics import classification_report\n",
    "\n",
    "# Charger les données de test\n",
    "\n",
    "    \n",
    "with open('x_test.pkl', 'rb') as file:\n",
    "    content = file.read(100)  # Lire les 100 premiers octets\n",
    "print(content)\n",
    "\n",
    "\n",
    "with open('y_test.pkl', 'rb') as file:\n",
    "    y_test = pickle.load(file)\n",
    "\n",
    "# Charger le modèle\n",
    "device = torch.device(\"cuda\" if torch.cuda.is_available() else \"cpu\")\n",
    "model = BertForSequenceClassification.from_pretrained('dmis-lab/biobert-base-cased-v1.1', num_labels=... )  # Ajustez num_labels\n",
    "model.load_state_dict(torch.load('model_biobert.pth', map_location=device))\n",
    "model.to(device)\n",
    "model.eval()\n",
    "\n",
    "# Charger le tokenizer\n",
    "tokenizer = BertTokenizer.from_pretrained('dmis-lab/biobert-base-cased-v1.1')\n",
    "\n",
    "# Charger le label encoder (si utilisé)\n",
    "with open('label_encoder.pkl', 'rb') as file:\n",
    "    label_encoder = pickle.load(file)\n"
   ]
  },
  {
   "cell_type": "code",
   "execution_count": null,
   "metadata": {},
   "outputs": [
    {
     "name": "stdout",
     "output_type": "stream",
     "text": [
      "b'\\x80\\x04\\x95\\xd2\\x00\\x00\\x00\\x00\\x00\\x00\\x00\\x8c\\x13joblib.numpy_pickle\\x94\\x8c\\x11NumpyArrayWrapper\\x94\\x93\\x94)\\x81\\x94}\\x94(\\x8c\\x08subclass\\x94\\x8c\\x05numpy\\x94\\x8c\\x07ndarray\\x94\\x93\\x94\\x8c\\x05shape\\x94'\n"
     ]
    }
   ],
   "source": [
    "import pandas as pd\n",
    "\n",
    "with open('y_test.pkl', 'rb') as file:\n",
    "    content = file.read(100)  # Lire les 100 premiers octets\n",
    "print(content)\n",
    "\n"
   ]
  },
  {
   "cell_type": "code",
   "execution_count": null,
   "metadata": {},
   "outputs": [
    {
     "name": "stdout",
     "output_type": "stream",
     "text": [
      "<class 'numpy.ndarray'>\n",
      "[ 2  2 24  1  9]\n"
     ]
    }
   ],
   "source": [
    "import joblib\n",
    "\n",
    "# Charger y_test.pkl avec joblib\n",
    "y_test = joblib.load('y_test.pkl')\n",
    "\n",
    "# Vérifier le type et un aperçu\n",
    "print(type(y_test))\n",
    "print(y_test[:5])  # Afficher les 5 premiers éléments si c'est un tableau ou une liste\n"
   ]
  },
  {
   "cell_type": "code",
   "execution_count": null,
   "metadata": {},
   "outputs": [
    {
     "ename": "FileNotFoundError",
     "evalue": "[Errno 2] No such file or directory: 'label_encoder.pkl'",
     "output_type": "error",
     "traceback": [
      "\u001b[1;31m---------------------------------------------------------------------------\u001b[0m",
      "\u001b[1;31mFileNotFoundError\u001b[0m                         Traceback (most recent call last)",
      "Cell \u001b[1;32mIn[9], line 4\u001b[0m\n\u001b[0;32m      1\u001b[0m \u001b[38;5;66;03m# Charger l'encodeur de labels (LabelEncoder) si disponible\u001b[39;00m\n\u001b[0;32m      2\u001b[0m \u001b[38;5;28;01mimport\u001b[39;00m \u001b[38;5;21;01mpickle\u001b[39;00m\n\u001b[1;32m----> 4\u001b[0m \u001b[38;5;28;01mwith\u001b[39;00m \u001b[38;5;28;43mopen\u001b[39;49m\u001b[43m(\u001b[49m\u001b[38;5;124;43m'\u001b[39;49m\u001b[38;5;124;43mlabel_encoder.pkl\u001b[39;49m\u001b[38;5;124;43m'\u001b[39;49m\u001b[43m,\u001b[49m\u001b[43m \u001b[49m\u001b[38;5;124;43m'\u001b[39;49m\u001b[38;5;124;43mrb\u001b[39;49m\u001b[38;5;124;43m'\u001b[39;49m\u001b[43m)\u001b[49m \u001b[38;5;28;01mas\u001b[39;00m file:\n\u001b[0;32m      5\u001b[0m     label_encoder \u001b[38;5;241m=\u001b[39m pickle\u001b[38;5;241m.\u001b[39mload(file)\n\u001b[0;32m      7\u001b[0m \u001b[38;5;66;03m# Décoder les indices vers les noms de maladies\u001b[39;00m\n",
      "File \u001b[1;32mc:\\Users\\Ibrahim\\Desktop\\Chatbot_v2\\ibenv\\Lib\\site-packages\\IPython\\core\\interactiveshell.py:324\u001b[0m, in \u001b[0;36m_modified_open\u001b[1;34m(file, *args, **kwargs)\u001b[0m\n\u001b[0;32m    317\u001b[0m \u001b[38;5;28;01mif\u001b[39;00m file \u001b[38;5;129;01min\u001b[39;00m {\u001b[38;5;241m0\u001b[39m, \u001b[38;5;241m1\u001b[39m, \u001b[38;5;241m2\u001b[39m}:\n\u001b[0;32m    318\u001b[0m     \u001b[38;5;28;01mraise\u001b[39;00m \u001b[38;5;167;01mValueError\u001b[39;00m(\n\u001b[0;32m    319\u001b[0m         \u001b[38;5;124mf\u001b[39m\u001b[38;5;124m\"\u001b[39m\u001b[38;5;124mIPython won\u001b[39m\u001b[38;5;124m'\u001b[39m\u001b[38;5;124mt let you open fd=\u001b[39m\u001b[38;5;132;01m{\u001b[39;00mfile\u001b[38;5;132;01m}\u001b[39;00m\u001b[38;5;124m by default \u001b[39m\u001b[38;5;124m\"\u001b[39m\n\u001b[0;32m    320\u001b[0m         \u001b[38;5;124m\"\u001b[39m\u001b[38;5;124mas it is likely to crash IPython. If you know what you are doing, \u001b[39m\u001b[38;5;124m\"\u001b[39m\n\u001b[0;32m    321\u001b[0m         \u001b[38;5;124m\"\u001b[39m\u001b[38;5;124myou can use builtins\u001b[39m\u001b[38;5;124m'\u001b[39m\u001b[38;5;124m open.\u001b[39m\u001b[38;5;124m\"\u001b[39m\n\u001b[0;32m    322\u001b[0m     )\n\u001b[1;32m--> 324\u001b[0m \u001b[38;5;28;01mreturn\u001b[39;00m \u001b[43mio_open\u001b[49m\u001b[43m(\u001b[49m\u001b[43mfile\u001b[49m\u001b[43m,\u001b[49m\u001b[43m \u001b[49m\u001b[38;5;241;43m*\u001b[39;49m\u001b[43margs\u001b[49m\u001b[43m,\u001b[49m\u001b[43m \u001b[49m\u001b[38;5;241;43m*\u001b[39;49m\u001b[38;5;241;43m*\u001b[39;49m\u001b[43mkwargs\u001b[49m\u001b[43m)\u001b[49m\n",
      "\u001b[1;31mFileNotFoundError\u001b[0m: [Errno 2] No such file or directory: 'label_encoder.pkl'"
     ]
    }
   ],
   "source": [
    "# Charger l'encodeur de labels (LabelEncoder) si disponible\n",
    "import pickle\n",
    "\n",
    "with open('label_encoder.pkl', 'rb') as file:\n",
    "    label_encoder = pickle.load(file)\n",
    "\n",
    "# Décoder les indices vers les noms de maladies\n",
    "y_test_decoded = label_encoder.inverse_transform(y_test)\n",
    "print(y_test_decoded[:5])  # Afficher les 5 premiers labels décodés\n"
   ]
  },
  {
   "cell_type": "code",
   "execution_count": null,
   "metadata": {},
   "outputs": [
    {
     "name": "stdout",
     "output_type": "stream",
     "text": [
      "['aussi.py', 'data', 'evaluation.ipynb', 'ibenv', 'medical_bot.py', 'medical_bot_v2.py', 'model_biobert.pth', 'NER.py', 'requirements.txt', 'test.py', 'test4.py', 'test_2.py', 'test_3.py', 'train_bert.ipynb', 'user_reports', 'X_test.pkl', 'X_train.pkl', 'y_test.pkl', 'y_train.pkl']\n"
     ]
    }
   ],
   "source": [
    "import os\n",
    "\n",
    "print(os.listdir())  # Lister tous les fichiers du répertoire courant\n",
    "\n"
   ]
  },
  {
   "cell_type": "code",
   "execution_count": null,
   "metadata": {},
   "outputs": [
    {
     "name": "stdout",
     "output_type": "stream",
     "text": [
      "            Disease                                           Symptoms\n",
      "0  Fungal infection  itching, skin_rash, nodal_skin_eruptions, disc...\n",
      "1  Fungal infection   skin_rash, nodal_skin_eruptions, dischromic _...\n",
      "2  Fungal infection  itching, nodal_skin_eruptions, dischromic _pat...\n",
      "3  Fungal infection            itching, skin_rash, dischromic _patches\n",
      "4  Fungal infection           itching, skin_rash, nodal_skin_eruptions\n",
      "['Fungal infection' 'Allergy' 'GERD' 'Chronic cholestasis' 'Drug Reaction'\n",
      " 'Peptic ulcer diseae' 'AIDS' 'Diabetes ' 'Gastroenteritis'\n",
      " 'Bronchial Asthma' 'Hypertension ' 'Migraine' 'Cervical spondylosis'\n",
      " 'Paralysis (brain hemorrhage)' 'Jaundice' 'Malaria' 'Chicken pox'\n",
      " 'Dengue' 'Typhoid' 'hepatitis A' 'Hepatitis B' 'Hepatitis C'\n",
      " 'Hepatitis D' 'Hepatitis E' 'Alcoholic hepatitis' 'Tuberculosis'\n",
      " 'Common Cold' 'Pneumonia' 'Dimorphic hemmorhoids(piles)' 'Heart attack'\n",
      " 'Varicose veins' 'Hypothyroidism' 'Hyperthyroidism' 'Hypoglycemia'\n",
      " 'Osteoarthristis' 'Arthritis' '(vertigo) Paroymsal  Positional Vertigo'\n",
      " 'Acne' 'Urinary tract infection' 'Psoriasis' 'Impetigo']\n"
     ]
    }
   ],
   "source": [
    "import pandas as pd\n",
    "\n",
    "# Charger le dataset\n",
    "data = pd.read_csv('data/dataset_cleaned.csv')  # Remplacez par le chemin de votre fichier\n",
    "print(data.head())  # Aperçu des premières lignes du dataset\n",
    "\n",
    "# Extraire les maladies uniques\n",
    "diseases = data['Disease'].unique()  # Remplacez 'Disease' par le nom exact de la colonne\n",
    "print(diseases)  # Vérifiez les maladies extraites\n"
   ]
  },
  {
   "cell_type": "code",
   "execution_count": null,
   "metadata": {},
   "outputs": [
    {
     "name": "stdout",
     "output_type": "stream",
     "text": [
      "LabelEncoder sauvegardé avec succès.\n"
     ]
    }
   ],
   "source": [
    "from sklearn.preprocessing import LabelEncoder\n",
    "import pickle\n",
    "\n",
    "# Créer et ajuster le LabelEncoder\n",
    "label_encoder = LabelEncoder()\n",
    "label_encoder.fit(diseases)\n",
    "\n",
    "# Sauvegarder l'encodeur dans un fichier Pickle\n",
    "with open('label_encoder.pkl', 'wb') as file:\n",
    "    pickle.dump(label_encoder, file)\n",
    "\n",
    "print(\"LabelEncoder sauvegardé avec succès.\")\n"
   ]
  },
  {
   "cell_type": "code",
   "execution_count": null,
   "metadata": {},
   "outputs": [
    {
     "name": "stdout",
     "output_type": "stream",
     "text": [
      "['(vertigo) Paroymsal  Positional Vertigo' 'AIDS' 'Acne'\n",
      " 'Alcoholic hepatitis' 'Allergy' 'Arthritis' 'Bronchial Asthma'\n",
      " 'Cervical spondylosis' 'Chicken pox' 'Chronic cholestasis' 'Common Cold'\n",
      " 'Dengue' 'Diabetes ' 'Dimorphic hemmorhoids(piles)' 'Drug Reaction'\n",
      " 'Fungal infection' 'GERD' 'Gastroenteritis' 'Heart attack' 'Hepatitis B'\n",
      " 'Hepatitis C' 'Hepatitis D' 'Hepatitis E' 'Hypertension '\n",
      " 'Hyperthyroidism' 'Hypoglycemia' 'Hypothyroidism' 'Impetigo' 'Jaundice'\n",
      " 'Malaria' 'Migraine' 'Osteoarthristis' 'Paralysis (brain hemorrhage)'\n",
      " 'Peptic ulcer diseae' 'Pneumonia' 'Psoriasis' 'Tuberculosis' 'Typhoid'\n",
      " 'Urinary tract infection' 'Varicose veins' 'hepatitis A']\n"
     ]
    }
   ],
   "source": [
    "# Charger le fichier label_encoder.pkl\n",
    "with open('label_encoder.pkl', 'rb') as file:\n",
    "    label_encoder = pickle.load(file)\n",
    "\n",
    "# Vérifiez les classes encodées\n",
    "print(label_encoder.classes_)  # Affiche toutes les maladies encodées\n"
   ]
  },
  {
   "cell_type": "code",
   "execution_count": null,
   "metadata": {},
   "outputs": [
    {
     "name": "stdout",
     "output_type": "stream",
     "text": [
      "['Acne' 'Acne' 'Hyperthyroidism' 'AIDS' 'Chronic cholestasis']\n"
     ]
    }
   ],
   "source": [
    "# Décoder les indices de y_test\n",
    "y_test_decoded = label_encoder.inverse_transform(y_test)\n",
    "print(y_test_decoded[:5])  # Afficher les 5 premiers labels décodés\n"
   ]
  },
  {
   "cell_type": "code",
   "execution_count": null,
   "metadata": {},
   "outputs": [
    {
     "name": "stdout",
     "output_type": "stream",
     "text": [
      "373                       skin_rash, blackheads, scurring\n",
      "4916     skin_rash, pus_filled_pimples, blackheads, sc...\n",
      "1550     fatigue, mood_swings, weight_loss, restlessne...\n",
      "3081     muscle_wasting, patches_in_throat, high_fever...\n",
      "3857    itching, vomiting, yellowish_skin, nausea, los...\n",
      "Name: Symptoms, dtype: object\n"
     ]
    }
   ],
   "source": [
    "import joblib\n",
    "\n",
    "# Charger les données de test depuis x_test.pkl\n",
    "X_test = joblib.load('x_test.pkl')\n",
    "print(X_test[:5])  # Afficher un aperçu des données\n"
   ]
  },
  {
   "cell_type": "code",
   "execution_count": null,
   "metadata": {},
   "outputs": [
    {
     "name": "stdout",
     "output_type": "stream",
     "text": [
      "373                       skin_rash, blackheads, scurring\n",
      "4916     skin_rash, pus_filled_pimples, blackheads, sc...\n",
      "1550     fatigue, mood_swings, weight_loss, restlessne...\n",
      "3081     muscle_wasting, patches_in_throat, high_fever...\n",
      "3857    itching, vomiting, yellowish_skin, nausea, los...\n",
      "Name: Symptoms, dtype: object\n"
     ]
    }
   ],
   "source": [
    "from sklearn.model_selection import train_test_split\n",
    "import pandas as pd\n",
    "\n",
    "# Charger le dataset complet\n",
    "data = pd.read_csv('data/dataset_cleaned.csv')\n",
    "\n",
    "# Séparer les caractéristiques (symptômes) et les cibles (maladies)\n",
    "X = data['Symptoms']  # Remplacez 'Symptoms' par la colonne correspondante\n",
    "y = data['Disease']  # Remplacez 'Disease' par la colonne correspondante\n",
    "\n",
    "# Diviser les données en train/test\n",
    "X_train, X_test, y_train, y_test = train_test_split(X, y, test_size=0.2, random_state=42)\n",
    "print(X_test.head())  # Aperçu des données de test\n"
   ]
  },
  {
   "cell_type": "code",
   "execution_count": null,
   "metadata": {},
   "outputs": [],
   "source": [
    "from transformers import BertTokenizer\n",
    "\n",
    "# Charger le tokenizer pour le modèle utilisé (par exemple, BioBERT)\n",
    "tokenizer = BertTokenizer.from_pretrained('dmis-lab/biobert-base-cased-v1.1')\n"
   ]
  },
  {
   "cell_type": "code",
   "execution_count": null,
   "metadata": {},
   "outputs": [
    {
     "name": "stderr",
     "output_type": "stream",
     "text": [
      "Some weights of BertForSequenceClassification were not initialized from the model checkpoint at dmis-lab/biobert-base-cased-v1.1 and are newly initialized: ['classifier.bias', 'classifier.weight']\n",
      "You should probably TRAIN this model on a down-stream task to be able to use it for predictions and inference.\n",
      "C:\\Users\\Ibrahim\\AppData\\Local\\Temp\\ipykernel_9692\\4060353228.py:7: FutureWarning: You are using `torch.load` with `weights_only=False` (the current default value), which uses the default pickle module implicitly. It is possible to construct malicious pickle data which will execute arbitrary code during unpickling (See https://github.com/pytorch/pytorch/blob/main/SECURITY.md#untrusted-models for more details). In a future release, the default value for `weights_only` will be flipped to `True`. This limits the functions that could be executed during unpickling. Arbitrary objects will no longer be allowed to be loaded via this mode unless they are explicitly allowlisted by the user via `torch.serialization.add_safe_globals`. We recommend you start setting `weights_only=True` for any use case where you don't have full control of the loaded file. Please open an issue on GitHub for any issues related to this experimental feature.\n",
      "  model.load_state_dict(torch.load('model_biobert.pth', map_location=device))\n"
     ]
    },
    {
     "data": {
      "text/plain": [
       "BertForSequenceClassification(\n",
       "  (bert): BertModel(\n",
       "    (embeddings): BertEmbeddings(\n",
       "      (word_embeddings): Embedding(28996, 768, padding_idx=0)\n",
       "      (position_embeddings): Embedding(512, 768)\n",
       "      (token_type_embeddings): Embedding(2, 768)\n",
       "      (LayerNorm): LayerNorm((768,), eps=1e-12, elementwise_affine=True)\n",
       "      (dropout): Dropout(p=0.1, inplace=False)\n",
       "    )\n",
       "    (encoder): BertEncoder(\n",
       "      (layer): ModuleList(\n",
       "        (0-11): 12 x BertLayer(\n",
       "          (attention): BertAttention(\n",
       "            (self): BertSdpaSelfAttention(\n",
       "              (query): Linear(in_features=768, out_features=768, bias=True)\n",
       "              (key): Linear(in_features=768, out_features=768, bias=True)\n",
       "              (value): Linear(in_features=768, out_features=768, bias=True)\n",
       "              (dropout): Dropout(p=0.1, inplace=False)\n",
       "            )\n",
       "            (output): BertSelfOutput(\n",
       "              (dense): Linear(in_features=768, out_features=768, bias=True)\n",
       "              (LayerNorm): LayerNorm((768,), eps=1e-12, elementwise_affine=True)\n",
       "              (dropout): Dropout(p=0.1, inplace=False)\n",
       "            )\n",
       "          )\n",
       "          (intermediate): BertIntermediate(\n",
       "            (dense): Linear(in_features=768, out_features=3072, bias=True)\n",
       "            (intermediate_act_fn): GELUActivation()\n",
       "          )\n",
       "          (output): BertOutput(\n",
       "            (dense): Linear(in_features=3072, out_features=768, bias=True)\n",
       "            (LayerNorm): LayerNorm((768,), eps=1e-12, elementwise_affine=True)\n",
       "            (dropout): Dropout(p=0.1, inplace=False)\n",
       "          )\n",
       "        )\n",
       "      )\n",
       "    )\n",
       "    (pooler): BertPooler(\n",
       "      (dense): Linear(in_features=768, out_features=768, bias=True)\n",
       "      (activation): Tanh()\n",
       "    )\n",
       "  )\n",
       "  (dropout): Dropout(p=0.1, inplace=False)\n",
       "  (classifier): Linear(in_features=768, out_features=41, bias=True)\n",
       ")"
      ]
     },
     "execution_count": 22,
     "metadata": {},
     "output_type": "execute_result"
    }
   ],
   "source": [
    "from transformers import BertForSequenceClassification\n",
    "import torch\n",
    "\n",
    "# Charger le modèle entraîné\n",
    "device = torch.device(\"cuda\" if torch.cuda.is_available() else \"cpu\")\n",
    "model = BertForSequenceClassification.from_pretrained('dmis-lab/biobert-base-cased-v1.1', num_labels=len(label_encoder.classes_))\n",
    "model.load_state_dict(torch.load('model_biobert.pth', map_location=device))\n",
    "model.to(device)\n",
    "model.eval()\n"
   ]
  },
  {
   "cell_type": "code",
   "execution_count": null,
   "metadata": {},
   "outputs": [
    {
     "name": "stderr",
     "output_type": "stream",
     "text": [
      "Asking to truncate to max_length but no maximum length is provided and the model has no predefined maximum length. Default to no truncation.\n"
     ]
    },
    {
     "name": "stdout",
     "output_type": "stream",
     "text": [
      "[2, 2, 24, 1, 9]\n"
     ]
    }
   ],
   "source": [
    "y_pred = []\n",
    "\n",
    "# Parcourir chaque échantillon dans X_test pour faire des prédictions\n",
    "for sample in X_test:\n",
    "    tokens = tokenizer(sample, return_tensors='pt', padding=True, truncation=True).to(device)\n",
    "    output = model(**tokens)\n",
    "    predicted_label = torch.argmax(output.logits, dim=1).cpu().item()\n",
    "    y_pred.append(predicted_label)\n",
    "\n",
    "\n",
    "\n",
    "\n",
    "\n",
    "print(y_pred[:5])  # Afficher les 5 premières prédictions\n"
   ]
  },
  {
   "cell_type": "code",
   "execution_count": null,
   "metadata": {},
   "outputs": [
    {
     "name": "stdout",
     "output_type": "stream",
     "text": [
      "['Acne' 'Acne' 'Hyperthyroidism' 'AIDS' 'Chronic cholestasis']\n"
     ]
    }
   ],
   "source": [
    "MAX_LEN = 128  # Définir une longueur maximale raisonnable\n",
    "tokens = tokenizer(sample, return_tensors='pt', padding=True, truncation=True, max_length=MAX_LEN).to(device)\n",
    "\n",
    "# Décoder les indices en noms de maladies\n",
    "y_pred_decoded = label_encoder.inverse_transform(y_pred)\n",
    "print(y_pred_decoded[:5])  # Afficher les 5 premières prédictions décodées"
   ]
  },
  {
   "cell_type": "code",
   "execution_count": null,
   "metadata": {},
   "outputs": [
    {
     "name": "stdout",
     "output_type": "stream",
     "text": [
      "[ 2  2 24  1  9]\n",
      "Rapport de classification :\n",
      "                                         precision    recall  f1-score   support\n",
      "\n",
      "(vertigo) Paroymsal  Positional Vertigo       1.00      1.00      1.00        18\n",
      "                                   AIDS       1.00      1.00      1.00        30\n",
      "                                   Acne       1.00      1.00      1.00        24\n",
      "                    Alcoholic hepatitis       1.00      1.00      1.00        25\n",
      "                                Allergy       1.00      1.00      1.00        24\n",
      "                              Arthritis       1.00      1.00      1.00        23\n",
      "                       Bronchial Asthma       1.00      1.00      1.00        33\n",
      "                   Cervical spondylosis       1.00      1.00      1.00        23\n",
      "                            Chicken pox       1.00      1.00      1.00        21\n",
      "                    Chronic cholestasis       1.00      1.00      1.00        15\n",
      "                            Common Cold       1.00      1.00      1.00        23\n",
      "                                 Dengue       1.00      1.00      1.00        26\n",
      "                              Diabetes        1.00      1.00      1.00        21\n",
      "           Dimorphic hemmorhoids(piles)       1.00      1.00      1.00        29\n",
      "                          Drug Reaction       1.00      1.00      1.00        24\n",
      "                       Fungal infection       1.00      1.00      1.00        19\n",
      "                                   GERD       1.00      1.00      1.00        28\n",
      "                        Gastroenteritis       1.00      1.00      1.00        25\n",
      "                           Heart attack       0.96      1.00      0.98        23\n",
      "                            Hepatitis B       1.00      1.00      1.00        27\n",
      "                            Hepatitis C       1.00      1.00      1.00        26\n",
      "                            Hepatitis D       1.00      1.00      1.00        23\n",
      "                            Hepatitis E       1.00      1.00      1.00        29\n",
      "                          Hypertension        1.00      1.00      1.00        25\n",
      "                        Hyperthyroidism       1.00      1.00      1.00        24\n",
      "                           Hypoglycemia       1.00      1.00      1.00        26\n",
      "                         Hypothyroidism       1.00      1.00      1.00        21\n",
      "                               Impetigo       1.00      1.00      1.00        24\n",
      "                               Jaundice       1.00      1.00      1.00        19\n",
      "                                Malaria       1.00      1.00      1.00        22\n",
      "                               Migraine       1.00      1.00      1.00        25\n",
      "                        Osteoarthristis       1.00      1.00      1.00        22\n",
      "           Paralysis (brain hemorrhage)       1.00      0.96      0.98        24\n",
      "                    Peptic ulcer diseae       1.00      1.00      1.00        17\n",
      "                              Pneumonia       1.00      1.00      1.00        28\n",
      "                              Psoriasis       1.00      1.00      1.00        22\n",
      "                           Tuberculosis       1.00      1.00      1.00        25\n",
      "                                Typhoid       1.00      1.00      1.00        19\n",
      "                Urinary tract infection       1.00      1.00      1.00        26\n",
      "                         Varicose veins       1.00      1.00      1.00        22\n",
      "                            hepatitis A       1.00      1.00      1.00        34\n",
      "\n",
      "                               accuracy                           1.00       984\n",
      "                              macro avg       1.00      1.00      1.00       984\n",
      "                           weighted avg       1.00      1.00      1.00       984\n",
      "\n"
     ]
    }
   ],
   "source": [
    "# Transformer y_test en indices numériques\n",
    "y_test_numeric = label_encoder.transform(y_test_decoded)  # y_test_decoded contient les maladies en texte\n",
    "print(y_test_numeric[:5])  # Vérifiez les premiers indices\n",
    "\n",
    "# Générer le rapport avec les indices numériques\n",
    "from sklearn.metrics import classification_report\n",
    "\n",
    "print(\"Rapport de classification :\")\n",
    "print(classification_report(y_test_numeric, y_pred, target_names=label_encoder.classes_))\n"
   ]
  },
  {
   "cell_type": "code",
   "execution_count": null,
   "metadata": {},
   "outputs": [
    {
     "name": "stdout",
     "output_type": "stream",
     "text": [
      "['Acne' 'Acne' 'Hyperthyroidism' 'AIDS' 'Chronic cholestasis']\n",
      "Rapport de classification :\n",
      "                                         precision    recall  f1-score   support\n",
      "\n",
      "(vertigo) Paroymsal  Positional Vertigo       1.00      1.00      1.00        18\n",
      "                                   AIDS       1.00      1.00      1.00        30\n",
      "                                   Acne       1.00      1.00      1.00        24\n",
      "                    Alcoholic hepatitis       1.00      1.00      1.00        25\n",
      "                                Allergy       1.00      1.00      1.00        24\n",
      "                              Arthritis       1.00      1.00      1.00        23\n",
      "                       Bronchial Asthma       1.00      1.00      1.00        33\n",
      "                   Cervical spondylosis       1.00      1.00      1.00        23\n",
      "                            Chicken pox       1.00      1.00      1.00        21\n",
      "                    Chronic cholestasis       1.00      1.00      1.00        15\n",
      "                            Common Cold       1.00      1.00      1.00        23\n",
      "                                 Dengue       1.00      1.00      1.00        26\n",
      "                              Diabetes        1.00      1.00      1.00        21\n",
      "           Dimorphic hemmorhoids(piles)       1.00      1.00      1.00        29\n",
      "                          Drug Reaction       1.00      1.00      1.00        24\n",
      "                       Fungal infection       1.00      1.00      1.00        19\n",
      "                                   GERD       1.00      1.00      1.00        28\n",
      "                        Gastroenteritis       1.00      1.00      1.00        25\n",
      "                           Heart attack       0.96      1.00      0.98        23\n",
      "                            Hepatitis B       1.00      1.00      1.00        27\n",
      "                            Hepatitis C       1.00      1.00      1.00        26\n",
      "                            Hepatitis D       1.00      1.00      1.00        23\n",
      "                            Hepatitis E       1.00      1.00      1.00        29\n",
      "                          Hypertension        1.00      1.00      1.00        25\n",
      "                        Hyperthyroidism       1.00      1.00      1.00        24\n",
      "                           Hypoglycemia       1.00      1.00      1.00        26\n",
      "                         Hypothyroidism       1.00      1.00      1.00        21\n",
      "                               Impetigo       1.00      1.00      1.00        24\n",
      "                               Jaundice       1.00      1.00      1.00        19\n",
      "                                Malaria       1.00      1.00      1.00        22\n",
      "                               Migraine       1.00      1.00      1.00        25\n",
      "                        Osteoarthristis       1.00      1.00      1.00        22\n",
      "           Paralysis (brain hemorrhage)       1.00      0.96      0.98        24\n",
      "                    Peptic ulcer diseae       1.00      1.00      1.00        17\n",
      "                              Pneumonia       1.00      1.00      1.00        28\n",
      "                              Psoriasis       1.00      1.00      1.00        22\n",
      "                           Tuberculosis       1.00      1.00      1.00        25\n",
      "                                Typhoid       1.00      1.00      1.00        19\n",
      "                Urinary tract infection       1.00      1.00      1.00        26\n",
      "                         Varicose veins       1.00      1.00      1.00        22\n",
      "                            hepatitis A       1.00      1.00      1.00        34\n",
      "\n",
      "                               accuracy                           1.00       984\n",
      "                              macro avg       1.00      1.00      1.00       984\n",
      "                           weighted avg       1.00      1.00      1.00       984\n",
      "\n"
     ]
    }
   ],
   "source": [
    "# Transformer y_pred en noms de maladies\n",
    "y_pred_decoded = label_encoder.inverse_transform(y_pred)\n",
    "print(y_pred_decoded[:5])  # Vérifiez les 5 premières prédictions\n",
    "\n",
    "# Générer le rapport avec les noms de maladies\n",
    "from sklearn.metrics import classification_report\n",
    "\n",
    "print(\"Rapport de classification :\")\n",
    "print(classification_report(y_test, y_pred_decoded, target_names=label_encoder.classes_))\n"
   ]
  },
  {
   "cell_type": "code",
   "execution_count": 30,
   "metadata": {},
   "outputs": [
    {
     "name": "stdout",
     "output_type": "stream",
     "text": [
      "Nombre d'exemples en commun entre train et test : 252\n"
     ]
    }
   ],
   "source": [
    "overlap = set(X_train).intersection(set(X_test))\n",
    "print(f\"Nombre d'exemples en commun entre train et test : {len(overlap)}\")\n"
   ]
  },
  {
   "cell_type": "code",
   "execution_count": null,
   "metadata": {},
   "outputs": [],
   "source": [
    "from sklearn.model_selection import train_test_split\n",
    "\n",
    "# Diviser les données en train et test sans chevauchement\n",
    "X_train, X_test, y_train, y_test = train_test_split(X, y, test_size=0.2, random_state=42, shuffle=True)\n"
   ]
  },
  {
   "cell_type": "code",
   "execution_count": 33,
   "metadata": {},
   "outputs": [
    {
     "name": "stdout",
     "output_type": "stream",
     "text": [
      "Scores de validation croisée : [0. 0. 0. 0. 0.]\n",
      "Score moyen : 0.00\n"
     ]
    }
   ],
   "source": [
    "from sklearn.base import BaseEstimator, ClassifierMixin\n",
    "\n",
    "class SklearnWrapper(BaseEstimator, ClassifierMixin):\n",
    "    def __init__(self, model, tokenizer, device):\n",
    "        self.model = model\n",
    "        self.tokenizer = tokenizer\n",
    "        self.device = device\n",
    "\n",
    "    def fit(self, X, y):\n",
    "        pass  # L'entraînement doit être géré séparément\n",
    "\n",
    "    def predict(self, X):\n",
    "        y_pred = []\n",
    "        for sample in X:\n",
    "            tokens = self.tokenizer(sample, return_tensors='pt', padding=True, truncation=True, max_length=128).to(self.device)\n",
    "            output = self.model(**tokens)\n",
    "            predicted_label = torch.argmax(output.logits, dim=1).cpu().item()\n",
    "            y_pred.append(predicted_label)\n",
    "        return y_pred\n",
    "\n",
    "# Créer une instance du wrapper\n",
    "wrapped_model = SklearnWrapper(model, tokenizer, device)\n",
    "\n",
    "# Exécuter la validation croisée\n",
    "from sklearn.model_selection import cross_val_score\n",
    "scores = cross_val_score(wrapped_model, X, y, cv=5)\n",
    "print(f\"Scores de validation croisée : {scores}\")\n",
    "print(f\"Score moyen : {scores.mean():.2f}\")\n"
   ]
  },
  {
   "cell_type": "code",
   "execution_count": 35,
   "metadata": {},
   "outputs": [],
   "source": [
    "class SklearnWrapper(BaseEstimator, ClassifierMixin):\n",
    "    def __init__(self, model, tokenizer, device):\n",
    "        self.model = model\n",
    "        self.tokenizer = tokenizer\n",
    "        self.device = device\n",
    "\n",
    "    def fit(self, X, y):\n",
    "        pass  # L'entraînement doit être géré séparément\n",
    "\n",
    "    def predict(self, X):\n",
    "        y_pred = []\n",
    "        for sample in X:\n",
    "            tokens = self.tokenizer(sample, return_tensors='pt', padding=True, truncation=True, max_length=128).to(self.device)\n",
    "            output = self.model(**tokens)\n",
    "            predicted_label = torch.argmax(output.logits, dim=1).cpu().item()\n",
    "            y_pred.append(predicted_label)\n",
    "\n",
    "        print(f\"Prédictions : {y_pred[:10]}\")  # Ajoutez ceci pour voir les prédictions\n",
    "        return y_pred\n"
   ]
  },
  {
   "cell_type": "code",
   "execution_count": null,
   "metadata": {},
   "outputs": [],
   "source": []
  },
  {
   "cell_type": "code",
   "execution_count": 36,
   "metadata": {},
   "outputs": [
    {
     "name": "stdout",
     "output_type": "stream",
     "text": [
      "Exemple de X : 0    itching, skin_rash, nodal_skin_eruptions, disc...\n",
      "1     skin_rash, nodal_skin_eruptions, dischromic _...\n",
      "2    itching, nodal_skin_eruptions, dischromic _pat...\n",
      "3              itching, skin_rash, dischromic _patches\n",
      "4             itching, skin_rash, nodal_skin_eruptions\n",
      "Name: Symptoms, dtype: object\n",
      "Exemple de y : 0    Fungal infection\n",
      "1    Fungal infection\n",
      "2    Fungal infection\n",
      "3    Fungal infection\n",
      "4    Fungal infection\n",
      "Name: Disease, dtype: object\n"
     ]
    }
   ],
   "source": [
    "print(f\"Exemple de X : {X[:5]}\")\n",
    "print(f\"Exemple de y : {y[:5]}\")\n"
   ]
  },
  {
   "cell_type": "code",
   "execution_count": 37,
   "metadata": {},
   "outputs": [
    {
     "name": "stdout",
     "output_type": "stream",
     "text": [
      "Exemple de y encodé : [15 15 15 15 15]\n"
     ]
    }
   ],
   "source": [
    "# Transformer y en indices numériques\n",
    "y_encoded = label_encoder.transform(y)\n",
    "print(f\"Exemple de y encodé : {y_encoded[:5]}\")\n"
   ]
  },
  {
   "cell_type": "code",
   "execution_count": 38,
   "metadata": {},
   "outputs": [
    {
     "name": "stdout",
     "output_type": "stream",
     "text": [
      "Counter({'Fungal infection': 120, 'Allergy': 120, 'GERD': 120, 'Chronic cholestasis': 120, 'Drug Reaction': 120, 'Peptic ulcer diseae': 120, 'AIDS': 120, 'Diabetes ': 120, 'Gastroenteritis': 120, 'Bronchial Asthma': 120, 'Hypertension ': 120, 'Migraine': 120, 'Cervical spondylosis': 120, 'Paralysis (brain hemorrhage)': 120, 'Jaundice': 120, 'Malaria': 120, 'Chicken pox': 120, 'Dengue': 120, 'Typhoid': 120, 'hepatitis A': 120, 'Hepatitis B': 120, 'Hepatitis C': 120, 'Hepatitis D': 120, 'Hepatitis E': 120, 'Alcoholic hepatitis': 120, 'Tuberculosis': 120, 'Common Cold': 120, 'Pneumonia': 120, 'Dimorphic hemmorhoids(piles)': 120, 'Heart attack': 120, 'Varicose veins': 120, 'Hypothyroidism': 120, 'Hyperthyroidism': 120, 'Hypoglycemia': 120, 'Osteoarthristis': 120, 'Arthritis': 120, '(vertigo) Paroymsal  Positional Vertigo': 120, 'Acne': 120, 'Urinary tract infection': 120, 'Psoriasis': 120, 'Impetigo': 120})\n"
     ]
    }
   ],
   "source": [
    "from collections import Counter\n",
    "\n",
    "print(Counter(y))  # Distribution des maladies dans le dataset\n"
   ]
  },
  {
   "cell_type": "code",
   "execution_count": 39,
   "metadata": {},
   "outputs": [
    {
     "name": "stdout",
     "output_type": "stream",
     "text": [
      "['(vertigo) Paroymsal  Positional Vertigo' 'AIDS' 'Acne'\n",
      " 'Alcoholic hepatitis' 'Allergy' 'Arthritis' 'Bronchial Asthma'\n",
      " 'Cervical spondylosis' 'Chicken pox' 'Chronic cholestasis' 'Common Cold'\n",
      " 'Dengue' 'Diabetes ' 'Dimorphic hemmorhoids(piles)' 'Drug Reaction'\n",
      " 'Fungal infection' 'GERD' 'Gastroenteritis' 'Heart attack' 'Hepatitis B'\n",
      " 'Hepatitis C' 'Hepatitis D' 'Hepatitis E' 'Hypertension '\n",
      " 'Hyperthyroidism' 'Hypoglycemia' 'Hypothyroidism' 'Impetigo' 'Jaundice'\n",
      " 'Malaria' 'Migraine' 'Osteoarthristis' 'Paralysis (brain hemorrhage)'\n",
      " 'Peptic ulcer diseae' 'Pneumonia' 'Psoriasis' 'Tuberculosis' 'Typhoid'\n",
      " 'Urinary tract infection' 'Varicose veins' 'hepatitis A']\n"
     ]
    }
   ],
   "source": [
    "# Vérifiez les classes apprises par le LabelEncoder\n",
    "print(label_encoder.classes_)\n"
   ]
  },
  {
   "cell_type": "code",
   "execution_count": 40,
   "metadata": {},
   "outputs": [
    {
     "name": "stdout",
     "output_type": "stream",
     "text": [
      "Symptômes : itching, skin_rash, nodal_skin_eruptions, dischromic _patches => Maladie : Fungal infection\n",
      "Symptômes :  skin_rash, nodal_skin_eruptions, dischromic _patches => Maladie : Fungal infection\n",
      "Symptômes : itching, nodal_skin_eruptions, dischromic _patches => Maladie : Fungal infection\n",
      "Symptômes : itching, skin_rash, dischromic _patches => Maladie : Fungal infection\n",
      "Symptômes : itching, skin_rash, nodal_skin_eruptions => Maladie : Fungal infection\n"
     ]
    }
   ],
   "source": [
    "# Vérifiez les 5 premières correspondances entre X et y\n",
    "for symptoms, disease in zip(X[:5], y[:5]):\n",
    "    print(f\"Symptômes : {symptoms} => Maladie : {disease}\")\n"
   ]
  },
  {
   "cell_type": "code",
   "execution_count": 41,
   "metadata": {},
   "outputs": [
    {
     "name": "stdout",
     "output_type": "stream",
     "text": [
      "Exemple de y encodé : [15 15 15 15 15]\n"
     ]
    }
   ],
   "source": [
    "# Encoder y avec le LabelEncoder\n",
    "y_encoded = label_encoder.transform(y)\n",
    "print(f\"Exemple de y encodé : {y_encoded[:5]}\")\n"
   ]
  }
 ],
 "metadata": {
  "kernelspec": {
   "display_name": "ibenv",
   "language": "python",
   "name": "python3"
  },
  "language_info": {
   "codemirror_mode": {
    "name": "ipython",
    "version": 3
   },
   "file_extension": ".py",
   "mimetype": "text/x-python",
   "name": "python",
   "nbconvert_exporter": "python",
   "pygments_lexer": "ipython3",
   "version": "3.12.6"
  }
 },
 "nbformat": 4,
 "nbformat_minor": 2
}
